{
 "cells": [
  {
   "cell_type": "code",
   "execution_count": 1,
   "id": "6dd9f205",
   "metadata": {
    "ExecuteTime": {
     "end_time": "2023-04-25T04:39:40.214653Z",
     "start_time": "2023-04-25T04:39:39.023837Z"
    }
   },
   "outputs": [],
   "source": [
    "from astropy.io import fits\n",
    "import numpy as np\n",
    "import matplotlib.pyplot as plt\n",
    "%matplotlib inline\n",
    "import os\n",
    "from scipy.optimize import curve_fit\n",
    "import sep\n",
    "plt.style.use('seaborn-white')"
   ]
  },
  {
   "cell_type": "code",
   "execution_count": 2,
   "id": "4a8a8cab",
   "metadata": {
    "ExecuteTime": {
     "end_time": "2023-04-25T04:39:41.027479Z",
     "start_time": "2023-04-25T04:39:40.215649Z"
    }
   },
   "outputs": [],
   "source": [
    "#read in and separate the files, then extract the data\n",
    "fits_files = [f for f in os.listdir('Nickle/fits_files') if f.endswith('.fits')]\n",
    "\n",
    "bias_files = fits_files[0:10]\n",
    "bias_data = np.array([\n",
    "    fits.getdata(os.path.join('Nickle/fits_files', file))\n",
    "    for file in bias_files])\n",
    "\n",
    "domeflat_B_files = fits_files[10:15]\n",
    "domeflat_V_files = fits_files[15:20]\n",
    "domeflat_R_files = fits_files[20:25]\n",
    "domeflat_B_data = np.array([\n",
    "    fits.getdata(os.path.join('Nickle/fits_files', file))\n",
    "    for file in domeflat_B_files])\n",
    "domeflat_V_data = np.array([\n",
    "    fits.getdata(os.path.join('Nickle/fits_files', file))\n",
    "    for file in domeflat_V_files])\n",
    "domeflat_R_data = np.array([\n",
    "    fits.getdata(os.path.join('Nickle/fits_files', file))\n",
    "    for file in domeflat_R_files])\n",
    "\n",
    "cal_B_files = fits_files[26:31]\n",
    "cal_V_files = fits_files[31:36]\n",
    "cal_R_files = fits_files[36:41]\n",
    "cal_B_data = np.array([\n",
    "    fits.getdata(os.path.join('Nickle/fits_files', file))\n",
    "    for file in cal_B_files])\n",
    "cal_V_data = np.array([\n",
    "    fits.getdata(os.path.join('Nickle/fits_files', file))\n",
    "    for file in cal_V_files])\n",
    "cal_R_data = np.array([\n",
    "    fits.getdata(os.path.join('Nickle/fits_files', file))\n",
    "    for file in cal_R_files])\n",
    "\n",
    "M67_B_files = fits_files[41:46]\n",
    "M67_V_files = fits_files[46:51]\n",
    "M67_R_files = fits_files[51:56]\n",
    "M67_B_data = np.array([\n",
    "    fits.getdata(os.path.join('Nickle/fits_files', file))\n",
    "    for file in M67_B_files])\n",
    "M67_V_data = np.array([\n",
    "    fits.getdata(os.path.join('Nickle/fits_files', file))\n",
    "    for file in M67_V_files])\n",
    "M67_R_data = np.array([\n",
    "    fits.getdata(os.path.join('Nickle/fits_files', file))\n",
    "    for file in M67_R_files])\n",
    "\n",
    "M3_B_files = fits_files[97:100]\n",
    "M3_V_files = fits_files[100:103]\n",
    "M3_R_files = fits_files[103:108]\n",
    "M3_B_data = np.array([\n",
    "    fits.getdata(os.path.join('Nickle/fits_files', file))\n",
    "    for file in M3_B_files])\n",
    "M3_V_data = np.array([\n",
    "    fits.getdata(os.path.join('Nickle/fits_files', file))\n",
    "    for file in M3_V_files])\n",
    "M3_R_data = np.array([\n",
    "    fits.getdata(os.path.join('Nickle/fits_files', file))\n",
    "    for file in M3_R_files])"
   ]
  },
  {
   "cell_type": "code",
   "execution_count": 3,
   "id": "eee0bcef",
   "metadata": {
    "ExecuteTime": {
     "end_time": "2023-04-25T04:40:15.098810Z",
     "start_time": "2023-04-25T04:39:41.029473Z"
    }
   },
   "outputs": [],
   "source": [
    "#create a 3d array made up of stacked 2d image arrays. make a new 2d array where every pixel count\n",
    "#is the median of the pixel counts across all images\n",
    "bias_pixels = np.empty([1024, 1056, 10])\n",
    "bias_master = np.empty([1024, 1056])\n",
    "for i in range(0,1024):\n",
    "    for j in range(0,1056):\n",
    "        bias_pixels[i][j] = [bias_data[0][i][j], bias_data[1][i][j], bias_data[2][i][j],\n",
    "            bias_data[3][i][j], bias_data[4][i][j], bias_data[5][i][j],\n",
    "            bias_data[6][i][j], bias_data[7][i][j], bias_data[8][i][j],\n",
    "            bias_data[9][i][j]]\n",
    "        bias_master[i][j] = np.median(bias_pixels[i][j])\n",
    "#plt.imshow(bias_master, vmax=1200)"
   ]
  },
  {
   "cell_type": "code",
   "execution_count": 4,
   "id": "c8e3a740",
   "metadata": {
    "ExecuteTime": {
     "end_time": "2023-04-25T04:41:48.751661Z",
     "start_time": "2023-04-25T04:40:15.099806Z"
    }
   },
   "outputs": [],
   "source": [
    "domeflat_B_pixels = np.empty([1024, 1056, len(domeflat_B_data)])\n",
    "domeflat_B_master = np.empty([1024, 1056])\n",
    "domeflat_V_pixels = np.empty([1024, 1056, len(domeflat_V_data)])\n",
    "domeflat_V_master = np.empty([1024, 1056])\n",
    "domeflat_R_pixels = np.empty([1024, 1056, len(domeflat_R_data)])\n",
    "domeflat_R_master = np.empty([1024, 1056])\n",
    "for i in range(0, 1024):\n",
    "    for j in range(0, 1056):\n",
    "        domeflat_B_pixels[i][j] = [domeflat_B_data[0][i][j], domeflat_B_data[1][i][j],\n",
    "            domeflat_B_data[2][i][j], domeflat_B_data[3][i][j],\n",
    "            domeflat_B_data[4][i][j]]\n",
    "        domeflat_B_master[i][j] = np.median(domeflat_B_pixels[i][j])\n",
    "        \n",
    "        domeflat_V_pixels[i][j] = [domeflat_V_data[0][i][j], domeflat_V_data[1][i][j],\n",
    "            domeflat_V_data[2][i][j], domeflat_V_data[3][i][j],\n",
    "            domeflat_V_data[4][i][j]]\n",
    "        domeflat_V_master[i][j] = np.median(domeflat_V_pixels[i][j])\n",
    "        \n",
    "        domeflat_R_pixels[i][j] = [domeflat_R_data[0][i][j], domeflat_R_data[1][i][j],\n",
    "            domeflat_R_data[2][i][j], domeflat_R_data[3][i][j],\n",
    "            domeflat_R_data[4][i][j]]\n",
    "        domeflat_R_master[i][j] = np.median(domeflat_R_pixels[i][j])"
   ]
  },
  {
   "cell_type": "code",
   "execution_count": 5,
   "id": "a0022d74",
   "metadata": {
    "ExecuteTime": {
     "end_time": "2023-04-25T04:41:48.799533Z",
     "start_time": "2023-04-25T04:41:48.752657Z"
    }
   },
   "outputs": [],
   "source": [
    "domeflat_B_clean = domeflat_B_master - bias_master\n",
    "domeflat_V_clean = domeflat_V_master - bias_master\n",
    "domeflat_R_clean = domeflat_R_master - bias_master\n",
    "\n",
    "domeflat_B_clean_norm = domeflat_B_clean / np.mean(domeflat_B_clean)\n",
    "domeflat_V_clean_norm = domeflat_V_clean / np.mean(domeflat_V_clean)\n",
    "domeflat_R_clean_norm = domeflat_R_clean / np.mean(domeflat_R_clean)"
   ]
  },
  {
   "cell_type": "code",
   "execution_count": 6,
   "id": "62ea4642",
   "metadata": {
    "ExecuteTime": {
     "end_time": "2023-04-25T04:41:49.035899Z",
     "start_time": "2023-04-25T04:41:48.800529Z"
    }
   },
   "outputs": [],
   "source": [
    "cal_B_clean = cal_B_data - bias_master\n",
    "cal_V_clean = cal_V_data - bias_master\n",
    "cal_R_clean = cal_R_data - bias_master\n",
    "cal_B_hdul = fits.open(os.path.join('Nickle/fits_files', cal_B_files[0]))\n",
    "cal_V_hdul = fits.open(os.path.join('Nickle/fits_files', cal_V_files[0]))\n",
    "cal_R_hdul = fits.open(os.path.join('Nickle/fits_files', cal_R_files[0]))\n",
    "cal_B_exptime = cal_B_hdul[0].header['EXPTIME']\n",
    "cal_V_exptime = cal_V_hdul[0].header['EXPTIME']\n",
    "cal_R_exptime = cal_R_hdul[0].header['EXPTIME']\n",
    "cal_B_persec = cal_B_clean / cal_B_exptime \n",
    "cal_V_persec = cal_V_clean / cal_V_exptime \n",
    "cal_R_persec = cal_R_clean / cal_R_exptime \n",
    "\n",
    "M67_B_clean = M67_B_data - bias_master\n",
    "M67_V_clean = M67_V_data - bias_master\n",
    "M67_R_clean = M67_R_data - bias_master\n",
    "M67_B_hdul = fits.open(os.path.join('Nickle/fits_files', M67_B_files[0]))\n",
    "M67_V_hdul = fits.open(os.path.join('Nickle/fits_files', M67_V_files[0]))\n",
    "M67_R_hdul = fits.open(os.path.join('Nickle/fits_files', M67_R_files[0]))\n",
    "M67_B_exptime = M67_B_hdul[0].header['EXPTIME']\n",
    "M67_V_exptime = M67_V_hdul[0].header['EXPTIME']\n",
    "M67_R_exptime = M67_R_hdul[0].header['EXPTIME']\n",
    "M67_B_persec = M67_B_clean / M67_B_exptime \n",
    "M67_V_persec = M67_V_clean / M67_V_exptime \n",
    "M67_R_persec = M67_R_clean / M67_R_exptime\n",
    "\n",
    "M3_B_clean = M3_B_data - bias_master\n",
    "M3_V_clean = M3_V_data - bias_master\n",
    "M3_R_clean = M3_R_data - bias_master\n",
    "M3_B_hdul = fits.open(os.path.join('Nickle/fits_files', M3_B_files[0]))\n",
    "M3_V_hdul = fits.open(os.path.join('Nickle/fits_files', M3_V_files[0]))\n",
    "M3_R_hdul = fits.open(os.path.join('Nickle/fits_files', M3_R_files[0]))\n",
    "M3_B_exptime = M3_B_hdul[0].header['EXPTIME']\n",
    "M3_V_exptime = M3_V_hdul[0].header['EXPTIME']\n",
    "M3_R_exptime = M3_R_hdul[0].header['EXPTIME']\n",
    "M3_B_persec = M3_B_clean / M3_B_exptime \n",
    "M3_V_persec = M3_V_clean / M3_V_exptime \n",
    "M3_R_persec = M3_R_clean / M3_R_exptime"
   ]
  },
  {
   "cell_type": "code",
   "execution_count": 7,
   "id": "e2058df6",
   "metadata": {
    "ExecuteTime": {
     "end_time": "2023-04-25T04:43:20.607829Z",
     "start_time": "2023-04-25T04:41:49.036897Z"
    }
   },
   "outputs": [],
   "source": [
    "cal_B_pixels = np.empty([1024, 1056, len(cal_B_persec)])\n",
    "cal_B_master = np.empty([1024, 1056])\n",
    "cal_V_pixels = np.empty([1024, 1056, len(cal_V_persec)])\n",
    "cal_V_master = np.empty([1024, 1056])\n",
    "cal_R_pixels = np.empty([1024, 1056, len(cal_R_persec)])\n",
    "cal_R_master = np.empty([1024, 1056])\n",
    "for i in range(0, 1024):\n",
    "    for j in range(0, 1056):\n",
    "        cal_B_pixels[i][j] = [cal_B_persec[0][i][j], cal_B_persec[1][i][j],\n",
    "            cal_B_persec[2][i][j], cal_B_persec[3][i][j],\n",
    "            cal_B_persec[4][i][j]]\n",
    "        cal_B_master[i][j] = np.median(cal_B_pixels[i][j])\n",
    "        \n",
    "        cal_V_pixels[i][j] = [cal_V_persec[0][i][j], cal_V_persec[1][i][j],\n",
    "            cal_V_persec[2][i][j], cal_V_persec[3][i][j],\n",
    "            cal_V_persec[4][i][j]]\n",
    "        cal_V_master[i][j] = np.median(cal_V_pixels[i][j])\n",
    "        \n",
    "        cal_R_pixels[i][j] = [cal_R_persec[0][i][j], cal_R_persec[1][i][j],\n",
    "            cal_R_persec[2][i][j], cal_R_persec[3][i][j],\n",
    "            cal_R_persec[4][i][j]]\n",
    "        cal_R_master[i][j] = np.median(cal_R_pixels[i][j])"
   ]
  },
  {
   "cell_type": "code",
   "execution_count": 8,
   "id": "374a8c86",
   "metadata": {
    "ExecuteTime": {
     "end_time": "2023-04-25T04:44:52.098601Z",
     "start_time": "2023-04-25T04:43:20.608825Z"
    }
   },
   "outputs": [],
   "source": [
    "M67_B_pixels = np.empty([1024, 1056, len(M67_B_persec)])\n",
    "M67_B_master = np.empty([1024, 1056])\n",
    "M67_V_pixels = np.empty([1024, 1056, len(M67_V_persec)])\n",
    "M67_V_master = np.empty([1024, 1056])\n",
    "M67_R_pixels = np.empty([1024, 1056, len(M67_R_persec)])\n",
    "M67_R_master = np.empty([1024, 1056])\n",
    "for i in range(0, 1024):\n",
    "    for j in range(0, 1056):\n",
    "        M67_B_pixels[i][j] = [M67_B_persec[0][i][j], M67_B_persec[1][i][j],\n",
    "            M67_B_persec[2][i][j], M67_B_persec[3][i][j],\n",
    "            M67_B_persec[4][i][j]]\n",
    "        M67_B_master[i][j] = np.median(M67_B_pixels[i][j])\n",
    "        \n",
    "        M67_V_pixels[i][j] = [M67_V_persec[0][i][j], M67_V_persec[1][i][j],\n",
    "            M67_V_persec[2][i][j], M67_V_persec[3][i][j],\n",
    "            M67_V_persec[4][i][j]]\n",
    "        M67_V_master[i][j] = np.median(M67_V_pixels[i][j])\n",
    "        \n",
    "        M67_R_pixels[i][j] = [M67_R_persec[0][i][j], M67_R_persec[1][i][j],\n",
    "            M67_R_persec[2][i][j], M67_R_persec[3][i][j],\n",
    "            M67_R_persec[4][i][j]]\n",
    "        M67_R_master[i][j] = np.median(M67_R_pixels[i][j])"
   ]
  },
  {
   "cell_type": "code",
   "execution_count": 9,
   "id": "8c9d74f2",
   "metadata": {
    "ExecuteTime": {
     "end_time": "2023-04-25T04:46:22.170804Z",
     "start_time": "2023-04-25T04:44:52.099597Z"
    }
   },
   "outputs": [],
   "source": [
    "M3_B_pixels = np.empty([1024, 1056, len(M3_B_persec)])\n",
    "M3_B_master = np.empty([1024, 1056])\n",
    "M3_V_pixels = np.empty([1024, 1056, len(M3_V_persec)])\n",
    "M3_V_master = np.empty([1024, 1056])\n",
    "M3_R_pixels = np.empty([1024, 1056, len(M3_R_persec)])\n",
    "M3_R_master = np.empty([1024, 1056])\n",
    "for i in range(0, 1024):\n",
    "    for j in range(0, 1056):\n",
    "        M3_B_pixels[i][j] = [M3_B_persec[0][i][j], M3_B_persec[1][i][j], M3_B_persec[2][i][j]]\n",
    "        M3_B_master[i][j] = np.median(M3_B_pixels[i][j])\n",
    "        \n",
    "        M3_V_pixels[i][j] = [M3_V_persec[0][i][j], M3_V_persec[1][i][j], M3_V_persec[2][i][j]]\n",
    "        M3_V_master[i][j] = np.median(M3_V_pixels[i][j])\n",
    "        \n",
    "        M3_R_pixels[i][j] = [M3_R_persec[0][i][j], M3_R_persec[1][i][j], M3_R_persec[2][i][j],\n",
    "                            M3_R_persec[3][i][j], M3_R_persec[4][i][j]]\n",
    "        M3_R_master[i][j] = np.median(M3_R_pixels[i][j])"
   ]
  },
  {
   "cell_type": "code",
   "execution_count": 11,
   "id": "093b03d1",
   "metadata": {
    "ExecuteTime": {
     "end_time": "2023-04-25T04:46:22.250590Z",
     "start_time": "2023-04-25T04:46:22.190749Z"
    }
   },
   "outputs": [
    {
     "name": "stderr",
     "output_type": "stream",
     "text": [
      "<ipython-input-11-ed2bf9061a2c>:1: RuntimeWarning: invalid value encountered in true_divide\n",
      "  cal_B_calibrated = cal_B_master / domeflat_B_clean_norm\n",
      "<ipython-input-11-ed2bf9061a2c>:2: RuntimeWarning: invalid value encountered in true_divide\n",
      "  cal_V_calibrated = cal_V_master / domeflat_V_clean_norm\n",
      "<ipython-input-11-ed2bf9061a2c>:3: RuntimeWarning: invalid value encountered in true_divide\n",
      "  cal_R_calibrated = cal_R_master / domeflat_R_clean_norm\n",
      "<ipython-input-11-ed2bf9061a2c>:5: RuntimeWarning: invalid value encountered in true_divide\n",
      "  M67_B_calibrated = M67_B_master / domeflat_B_clean_norm\n",
      "<ipython-input-11-ed2bf9061a2c>:6: RuntimeWarning: invalid value encountered in true_divide\n",
      "  M67_V_calibrated = M67_V_master / domeflat_V_clean_norm\n",
      "<ipython-input-11-ed2bf9061a2c>:7: RuntimeWarning: invalid value encountered in true_divide\n",
      "  M67_R_calibrated = M67_R_master / domeflat_R_clean_norm\n",
      "<ipython-input-11-ed2bf9061a2c>:9: RuntimeWarning: invalid value encountered in true_divide\n",
      "  M3_B_calibrated = M3_B_master / domeflat_B_clean_norm\n",
      "<ipython-input-11-ed2bf9061a2c>:10: RuntimeWarning: invalid value encountered in true_divide\n",
      "  M3_V_calibrated = M3_V_master / domeflat_V_clean_norm\n",
      "<ipython-input-11-ed2bf9061a2c>:11: RuntimeWarning: invalid value encountered in true_divide\n",
      "  M3_R_calibrated = M3_R_master / domeflat_R_clean_norm\n"
     ]
    }
   ],
   "source": [
    "cal_B_calibrated = cal_B_master / domeflat_B_clean_norm\n",
    "cal_V_calibrated = cal_V_master / domeflat_V_clean_norm\n",
    "cal_R_calibrated = cal_R_master / domeflat_R_clean_norm\n",
    "\n",
    "M67_B_calibrated = M67_B_master / domeflat_B_clean_norm\n",
    "M67_V_calibrated = M67_V_master / domeflat_V_clean_norm\n",
    "M67_R_calibrated = M67_R_master / domeflat_R_clean_norm\n",
    "\n",
    "M3_B_calibrated = M3_B_master / domeflat_B_clean_norm\n",
    "M3_V_calibrated = M3_V_master / domeflat_V_clean_norm\n",
    "M3_R_calibrated = M3_R_master / domeflat_R_clean_norm"
   ]
  },
  {
   "cell_type": "code",
   "execution_count": null,
   "id": "f8effaf7",
   "metadata": {},
   "outputs": [],
   "source": []
  }
 ],
 "metadata": {
  "kernelspec": {
   "display_name": "Python 3",
   "language": "python",
   "name": "python3"
  },
  "language_info": {
   "codemirror_mode": {
    "name": "ipython",
    "version": 3
   },
   "file_extension": ".py",
   "mimetype": "text/x-python",
   "name": "python",
   "nbconvert_exporter": "python",
   "pygments_lexer": "ipython3",
   "version": "3.8.8"
  }
 },
 "nbformat": 4,
 "nbformat_minor": 5
}
